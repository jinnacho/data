{
  "nbformat": 4,
  "nbformat_minor": 0,
  "metadata": {
    "colab": {
      "provenance": [],
      "include_colab_link": true
    },
    "kernelspec": {
      "name": "python3",
      "display_name": "Python 3"
    }
  },
  "cells": [
    {
      "cell_type": "markdown",
      "metadata": {
        "id": "view-in-github",
        "colab_type": "text"
      },
      "source": [
        "<a href=\"https://colab.research.google.com/github/jinnacho/data/blob/main/%EB%82%98%EB%8F%84_%EB%8D%B0%EC%9D%B4%ED%84%B0_%EB%B6%84%EC%84%9D%EA%B0%80!_(%EC%88%98%ED%96%89%ED%8F%89%EA%B0%803_30%EC%A0%90).ipynb\" target=\"_parent\"><img src=\"https://colab.research.google.com/assets/colab-badge.svg\" alt=\"Open In Colab\"/></a>"
      ]
    },
    {
      "cell_type": "markdown",
      "metadata": {
        "id": "5chN-QtyLW1l"
      },
      "source": [
        " 여러분들이 분석하고자 하는 데이터를 다운받고 분석하면 됩니다! 다양하게 여러분만의 질문을 만들고 인사이트를 발견해보세요:)\n",
        " \n",
        "**<공공데이터 참고사이트>** </br>\n",
        "1. 서울 열린데이터 광장: http://data.seoul.go.kr/  </br>\n",
        "2. 공공데이터 포털: https://www.data.go.kr/\n",
        "3. 국가통계포털: https://kosis.kr/index/index.do"
      ]
    },
    {
      "cell_type": "markdown",
      "source": [
        "### Q. 데이터분석 방법이 막막하다면? \n",
        "\n",
        "1. **[모두의 데이터 분석 with 파이썬]** 책의 데이터 분석 사례을 참고하세요   ->\n",
        "https://thebook.io/007029/\n",
        "\n",
        "2. 예시파일로 올려준 '서울시 코로나19 자치구별 확진자 발생동향.csv' 파일을 사용해도 됩니다. \n",
        "```\n",
        "ex) 2022년 코로나 확진자가 많은 구는? (질문형)\n",
        "ex) 코로나 확진자 발생동향분석을 통한 ~~ (주제형)\n",
        "```\n",
        "\n",
        "3. 새로운 데이터를 가지고 하는 것이 어렵다면, 6.데이터분석에서 사용한 card.csv 파일을 가지고 다른 질문을 만들어도 됩니다. \n",
        "\n",
        "```\n",
        "ex) 월별 백화점 사용 금액추이는? (질문형)\n",
        "ex) 사용자의 오프라인 소비와 온라인 소비 비교를 통한 소비패턴 추측 (주제형)\n",
        "```\n",
        "\n",
        "\n",
        "\n"
      ],
      "metadata": {
        "id": "erOtv3Rm9fLJ"
      }
    },
    {
      "cell_type": "markdown",
      "source": [
        "## 1. 데이터 소개 및 선정 동기"
      ],
      "metadata": {
        "id": "e3L5QFCx_CFV"
      }
    },
    {
      "cell_type": "code",
      "source": [
        "1. 데이터 다운 경로(사이트):\n",
        "2. 데이터명: \n",
        "3. 데이터 선택 이유:\n"
      ],
      "metadata": {
        "id": "ZOaJs-WD_MC-"
      },
      "execution_count": null,
      "outputs": []
    },
    {
      "cell_type": "markdown",
      "metadata": {
        "id": "U72zfzqDPMQG"
      },
      "source": [
        "## 2. 데이터분석 준비\n",
        "### 1) csv 파일 업로드하기\n",
        "☆ 잠깐! 업로드 하기 전에 받은 csv 파일의 상단을 정리해주세요! ☆ \n",
        "- 본 데이터 위에 **헤더 한 줄만 남도록 불필요한 데이터 삭제**\n",
        "- 파일 확장자가 excel인 경우 csv utf-8 형식으로 바꿔 저장 (파일형식: **파일명.csv**)"
      ]
    },
    {
      "cell_type": "code",
      "source": [
        "# 구글 드라이브와 colab 파일 연동하기 (구글 드라이브 마운트)\n",
        "from google.colab import drive\n",
        "drive.mount('/content/drive')"
      ],
      "metadata": {
        "id": "b4o70BfBnmUP"
      },
      "execution_count": null,
      "outputs": []
    },
    {
      "cell_type": "markdown",
      "metadata": {
        "id": "856yefHCuK2D"
      },
      "source": [
        "### 2)  csv 파일을 파이썬으로 읽어오기 \n"
      ]
    },
    {
      "cell_type": "code",
      "source": [
        "# 구글 드라이브에서 csv 파일 가져오기\n",
        "import csv                   # csv 라이브러리 포함하기\n",
        "f = open('구글 드라이브 내 파일경로')         # csv 파일 오픈\n",
        "data = csv.reader(f)         # 파일 읽기 reader\n",
        "next(data)                   # 파일 헤더 건너뛰기 \n",
        "data = list(data)            # 파일 리스트로 바꾸기"
      ],
      "metadata": {
        "id": "WrbD9JagkU7y"
      },
      "execution_count": null,
      "outputs": []
    },
    {
      "cell_type": "markdown",
      "source": [
        "* 만약 파일을 읽어왔는데 utf-8 오류가 발생하면, f = open('파일명.csv'**, encoding='cp949'** ) 을 추가!"
      ],
      "metadata": {
        "id": "PDbkpkmFAbg2"
      }
    },
    {
      "cell_type": "code",
      "source": [
        "# 데이터확인1. 총 데이터의 개수\n",
        "len(data)"
      ],
      "metadata": {
        "id": "ZPykQusE_PKz"
      },
      "execution_count": null,
      "outputs": []
    },
    {
      "cell_type": "code",
      "source": [
        "# 데이터확인2. 처음부터 5번째 줄(행)까지 출력\n",
        "print(data[:5])"
      ],
      "metadata": {
        "id": "AiMqeQ83xiPE"
      },
      "execution_count": null,
      "outputs": []
    },
    {
      "cell_type": "markdown",
      "source": [
        "### 3) 한글 폰트 설정해주기\n",
        "아래 코드를 실행하면 Matplotlib의 기본 폰트가 나눔바른고딕으로 설정되어, 한글이 깨지지 않게 됩니다.(10초정도 소요) </br> 또한, 런타임을 다시 시작할 필요가 없습니다. 실행 즉시 한글 폰트로 설정됩니다.  </br>  앞으로 이 실습 파일을 다시 열 때마다 한글 폰트 설정 코드를 실행해주세요~"
      ],
      "metadata": {
        "id": "ecxB9TfZk5cZ"
      }
    },
    {
      "cell_type": "code",
      "source": [
        "def fix_font():\n",
        "    # From https://HC.Dle.pw, By Jinseo Kim\n",
        "    # v1.0.0\n",
        "    import os\n",
        "    import matplotlib as mpl\n",
        "    import matplotlib.pyplot as plt\n",
        "    os.system(\"apt-get install -y fonts-nanum\")\n",
        "    os.system(\"fc-cache -fv\")\n",
        "    mpl.font_manager._rebuild()\n",
        "    findfont = mpl.font_manager.fontManager.findfont\n",
        "    mpl.font_manager.findfont = findfont\n",
        "    mpl.backends.backend_agg.findfont = findfont\n",
        "    plt.rcParams['font.family'] = \"NanumBarunGothic\"\n",
        "    plt.rcParams['axes.unicode_minus'] = False\n",
        "           \n",
        "fix_font()"
      ],
      "metadata": {
        "id": "m33HKt-YzBa-"
      },
      "execution_count": null,
      "outputs": []
    },
    {
      "cell_type": "markdown",
      "metadata": {
        "id": "Tv-ElEfEO7dX"
      },
      "source": [
        "## 3. 데이터분석 \n",
        " 주어진 데이터를 가지고 분석하고 싶은 것을 고려하여 질문/주제를 선정해봅시다.\n"
      ]
    },
    {
      "cell_type": "markdown",
      "source": [
        "질문1. 더블클릭하여 작성"
      ],
      "metadata": {
        "id": "22aVmJ1-9KE4"
      }
    },
    {
      "cell_type": "code",
      "metadata": {
        "id": "gWu17xXYLL9k"
      },
      "source": [
        "# (1) 프로그램 흐름 구상하기 (자유롭게 작성)"
      ],
      "execution_count": null,
      "outputs": []
    },
    {
      "cell_type": "code",
      "metadata": {
        "id": "5fIz8-xqLOXz"
      },
      "source": [
        "# (2) matplotlib 라이브러리를 활용하여 데이터분석결과를 그래프로 그려주세요.\n",
        "import matplotlib.pyplot as plt\n",
        "\n",
        "# 데이터 분석 부분\n",
        "\n",
        "\n",
        "# 글꼴 지정 명령어\n",
        "plt.rc('font', family='NanumGothic')\n",
        "# 표 제목\n",
        "plt.title('표 제목')\n",
        "# 그래프 그리기\n",
        "\n"
      ],
      "execution_count": null,
      "outputs": []
    },
    {
      "cell_type": "markdown",
      "source": [
        "질문2. 더블클릭하여 작성"
      ],
      "metadata": {
        "id": "ZLWsZ7rD9N9z"
      }
    },
    {
      "cell_type": "code",
      "source": [
        "# (1) 프로그램 흐름 구상하기 (자유롭게 작성)"
      ],
      "metadata": {
        "id": "IcJroFc481WN"
      },
      "execution_count": null,
      "outputs": []
    },
    {
      "cell_type": "code",
      "source": [
        "# (2) matplotlib 라이브러리를 활용하여 데이터분석결과를 그래프로 그려주세요.\n",
        "import matplotlib.pyplot as plt\n",
        "\n",
        "# 데이터 분석 부분\n",
        "\n",
        "\n",
        "# 글꼴 지정 명령어\n",
        "plt.rc('font', family='NanumGothic')\n",
        "# 표 제목\n",
        "plt.title('표 제목')\n",
        "# 그래프 그리기\n",
        "\n"
      ],
      "metadata": {
        "id": "wPdN_iPu80rS"
      },
      "execution_count": null,
      "outputs": []
    },
    {
      "cell_type": "markdown",
      "source": [
        "(코드셀 추가 및 수정 가능)"
      ],
      "metadata": {
        "id": "jtw0Ib0Y8T2J"
      }
    },
    {
      "cell_type": "markdown",
      "source": [
        "## 4. 결과 분석"
      ],
      "metadata": {
        "id": "ujkJ6Ja78rzw"
      }
    },
    {
      "cell_type": "code",
      "source": [
        "# 데이터 분석 결과를 통해 알 수 있는 사실, 추측할 수 있는 사실, 더 분석해보고 싶었던 내용 등을 자유롭게 적어주세요. \n",
        "\n"
      ],
      "metadata": {
        "id": "v6SY5iAL-b8D"
      },
      "execution_count": null,
      "outputs": []
    },
    {
      "cell_type": "markdown",
      "source": [
        "## 5. 프로젝트 공유 및 피드백\n",
        "\n",
        "1) 그래프를 복사(오른쪽 마우스 클릭 - 이미지 복사) 또는 캡쳐([window +shift+s])해서 패들릿에 업로드 </br> → https://sehwagh.padlet.org/lime122613/oi7cs0ezuzo6rcx\n",
        "\n",
        "2) 자기평가 및 동료평가 → https://forms.gle/yFgu8sMRu69HxhPT8\n",
        "\n",
        "\n"
      ],
      "metadata": {
        "id": "gxrHWRSFkmec"
      }
    },
    {
      "cell_type": "markdown",
      "source": [
        "**p.s** 기말고사 후 희망자에 한해 '데이터분석 프로젝트 발표' 신청을 받겠습니다 :)"
      ],
      "metadata": {
        "id": "OdsTQJaHjK53"
      }
    }
  ]
}